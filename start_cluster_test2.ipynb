{
 "cells": [
  {
   "cell_type": "code",
   "execution_count": 1,
   "metadata": {
    "collapsed": true
   },
   "outputs": [],
   "source": [
    "import boto.ec2\n",
    "from paramiko import SSHClient\n",
    "import paramiko\n",
    "from termcolor import colored\n",
    "import boto3\n",
    "import click\n",
    "import time\n",
    "from s3_util import *\n",
    "from ec2 import *\n",
    "from spot_instance import *"
   ]
  },
  {
   "cell_type": "code",
   "execution_count": 2,
   "metadata": {},
   "outputs": [
    {
     "name": "stdout",
     "output_type": "stream",
     "text": [
      "All have ips assigned.\n",
      "34.205.174.203 (pending) isn't running.\n",
      "18.214.25.205 (pending) isn't running.\n",
      "34.200.214.185 (pending) isn't running.\n",
      "All aren't running. Wait for 10 sec...\n",
      "34.205.174.203 is running.\n",
      "18.214.25.205 (pending) isn't running.\n",
      "34.200.214.185 (pending) isn't running.\n",
      "All aren't running. Wait for 10 sec...\n",
      "34.205.174.203 is running.\n",
      "18.214.25.205 is running.\n",
      "34.200.214.185 is running.\n",
      "All are running.\n",
      "34.205.174.203\n",
      "18.214.25.205\n",
      "34.200.214.185\n",
      "There're 5 instances.\n",
      "3 are running now.\n",
      "--------------------\n",
      "0 - Executing scripts on 18.214.25.205\n"
     ]
    },
    {
     "ename": "NoValidConnectionsError",
     "evalue": "[Errno None] Unable to connect to port 22 on 18.214.25.205",
     "output_type": "error",
     "traceback": [
      "\u001b[0;31m---------------------------------------------------------------------------\u001b[0m",
      "\u001b[0;31mNoValidConnectionsError\u001b[0m                   Traceback (most recent call last)",
      "\u001b[0;32m<ipython-input-2-8e653568d05a>\u001b[0m in \u001b[0;36m<module>\u001b[0;34m()\u001b[0m\n\u001b[1;32m      2\u001b[0m \u001b[0mnew_reservation\u001b[0m \u001b[0;34m=\u001b[0m \u001b[0mrequest_spot_instances\u001b[0m\u001b[0;34m(\u001b[0m\u001b[0mcount\u001b[0m\u001b[0;34m=\u001b[0m\u001b[0;36m3\u001b[0m\u001b[0;34m,\u001b[0m\u001b[0mtag\u001b[0m\u001b[0;34m=\u001b[0m\u001b[0mtag\u001b[0m\u001b[0;34m)\u001b[0m\u001b[0;34m\u001b[0m\u001b[0m\n\u001b[1;32m      3\u001b[0m \u001b[0mtime\u001b[0m\u001b[0;34m.\u001b[0m\u001b[0msleep\u001b[0m\u001b[0;34m(\u001b[0m\u001b[0;36m10\u001b[0m\u001b[0;34m)\u001b[0m\u001b[0;34m\u001b[0m\u001b[0m\n\u001b[0;32m----> 4\u001b[0;31m \u001b[0mrun_command_all_instances\u001b[0m\u001b[0;34m(\u001b[0m\u001b[0mtag\u001b[0m\u001b[0;34m=\u001b[0m\u001b[0mtag\u001b[0m\u001b[0;34m,\u001b[0m\u001b[0minline\u001b[0m\u001b[0;34m=\u001b[0m\u001b[0mFalse\u001b[0m\u001b[0;34m,\u001b[0m\u001b[0mtarget\u001b[0m\u001b[0;34m=\u001b[0m\u001b[0;34m'./init_script.sh'\u001b[0m\u001b[0;34m)\u001b[0m\u001b[0;34m\u001b[0m\u001b[0m\n\u001b[0m",
      "\u001b[0;32m/home/qning2/Desktop/aws/ec2.py\u001b[0m in \u001b[0;36mrun_command_all_instances\u001b[0;34m(tag, inline, target, dryrun)\u001b[0m\n\u001b[1;32m     48\u001b[0m             \u001b[0;32mcontinue\u001b[0m\u001b[0;34m\u001b[0m\u001b[0m\n\u001b[1;32m     49\u001b[0m         \u001b[0;32melse\u001b[0m\u001b[0;34m:\u001b[0m\u001b[0;34m\u001b[0m\u001b[0m\n\u001b[0;32m---> 50\u001b[0;31m             \u001b[0mrun_command\u001b[0m\u001b[0;34m(\u001b[0m\u001b[0mhost\u001b[0m\u001b[0;34m,\u001b[0m\u001b[0mcommand\u001b[0m\u001b[0;34m,\u001b[0m\u001b[0minline\u001b[0m\u001b[0;34m=\u001b[0m\u001b[0mTrue\u001b[0m\u001b[0;34m,\u001b[0m\u001b[0mverbose\u001b[0m\u001b[0;34m=\u001b[0m\u001b[0mFalse\u001b[0m\u001b[0;34m)\u001b[0m\u001b[0;34m\u001b[0m\u001b[0m\n\u001b[0m",
      "\u001b[0;32m/home/qning2/Desktop/aws/ec2.py\u001b[0m in \u001b[0;36mrun_command\u001b[0;34m(host, command, user, inline, verbose)\u001b[0m\n\u001b[1;32m     21\u001b[0m     \u001b[0mclient\u001b[0m\u001b[0;34m.\u001b[0m\u001b[0mload_system_host_keys\u001b[0m\u001b[0;34m(\u001b[0m\u001b[0;34m)\u001b[0m\u001b[0;34m\u001b[0m\u001b[0m\n\u001b[1;32m     22\u001b[0m     \u001b[0mclient\u001b[0m\u001b[0;34m.\u001b[0m\u001b[0mset_missing_host_key_policy\u001b[0m\u001b[0;34m(\u001b[0m\u001b[0mparamiko\u001b[0m\u001b[0;34m.\u001b[0m\u001b[0mWarningPolicy\u001b[0m\u001b[0;34m)\u001b[0m\u001b[0;34m\u001b[0m\u001b[0m\n\u001b[0;32m---> 23\u001b[0;31m     \u001b[0mclient\u001b[0m\u001b[0;34m.\u001b[0m\u001b[0mconnect\u001b[0m\u001b[0;34m(\u001b[0m\u001b[0mhost\u001b[0m\u001b[0;34m,\u001b[0m \u001b[0musername\u001b[0m\u001b[0;34m=\u001b[0m\u001b[0muser\u001b[0m\u001b[0;34m,\u001b[0m \u001b[0mpkey\u001b[0m\u001b[0;34m=\u001b[0m\u001b[0mparamiko\u001b[0m\u001b[0;34m.\u001b[0m\u001b[0mRSAKey\u001b[0m\u001b[0;34m.\u001b[0m\u001b[0mfrom_private_key_file\u001b[0m\u001b[0;34m(\u001b[0m\u001b[0;34m\"/home/qning2/.ssh/g0202243.pem\"\u001b[0m\u001b[0;34m)\u001b[0m\u001b[0;34m)\u001b[0m\u001b[0;34m\u001b[0m\u001b[0m\n\u001b[0m\u001b[1;32m     24\u001b[0m     \u001b[0;32mif\u001b[0m \u001b[0minline\u001b[0m\u001b[0;34m:\u001b[0m\u001b[0;34m\u001b[0m\u001b[0m\n\u001b[1;32m     25\u001b[0m         \u001b[0;32mprint\u001b[0m \u001b[0;34m\"Run command:\"\u001b[0m\u001b[0;34m+\u001b[0m\u001b[0mcommand\u001b[0m\u001b[0;34m\u001b[0m\u001b[0m\n",
      "\u001b[0;32m/home/qning2/Software/anaconda2/lib/python2.7/site-packages/paramiko/client.pyc\u001b[0m in \u001b[0;36mconnect\u001b[0;34m(self, hostname, port, username, password, pkey, key_filename, timeout, allow_agent, look_for_keys, compress, sock, gss_auth, gss_kex, gss_deleg_creds, gss_host, banner_timeout, auth_timeout, gss_trust_dns, passphrase)\u001b[0m\n\u001b[1;32m    360\u001b[0m             \u001b[0;31m# (socket.error)\u001b[0m\u001b[0;34m\u001b[0m\u001b[0;34m\u001b[0m\u001b[0m\n\u001b[1;32m    361\u001b[0m             \u001b[0;32mif\u001b[0m \u001b[0mlen\u001b[0m\u001b[0;34m(\u001b[0m\u001b[0merrors\u001b[0m\u001b[0;34m)\u001b[0m \u001b[0;34m==\u001b[0m \u001b[0mlen\u001b[0m\u001b[0;34m(\u001b[0m\u001b[0mto_try\u001b[0m\u001b[0;34m)\u001b[0m\u001b[0;34m:\u001b[0m\u001b[0;34m\u001b[0m\u001b[0m\n\u001b[0;32m--> 362\u001b[0;31m                 \u001b[0;32mraise\u001b[0m \u001b[0mNoValidConnectionsError\u001b[0m\u001b[0;34m(\u001b[0m\u001b[0merrors\u001b[0m\u001b[0;34m)\u001b[0m\u001b[0;34m\u001b[0m\u001b[0m\n\u001b[0m\u001b[1;32m    363\u001b[0m \u001b[0;34m\u001b[0m\u001b[0m\n\u001b[1;32m    364\u001b[0m         t = self._transport = Transport(\n",
      "\u001b[0;31mNoValidConnectionsError\u001b[0m: [Errno None] Unable to connect to port 22 on 18.214.25.205"
     ]
    }
   ],
   "source": [
    "tag = 'smalltest'\n",
    "new_reservation = request_spot_instances(count=3,tag=tag)\n",
    "time.sleep(120)\n",
    "run_command_all_instances(tag=tag,inline=False,target='./init_script.sh')"
   ]
  },
  {
   "cell_type": "code",
   "execution_count": 4,
   "metadata": {},
   "outputs": [
    {
     "name": "stdout",
     "output_type": "stream",
     "text": [
      "There're 5 instances.\n",
      "3 are running now.\n",
      "--------------------\n",
      "0 - Executing scripts on 18.214.25.205\n",
      "Run command:./scripts/runIllinoisTemporal.sh \"4 5 6 7 8\">>~/log/illinois-temporal/ip-18-214-25-205.log &\n",
      "--------------------\n",
      "1 - Executing scripts on 34.200.214.185\n",
      "Run command:./scripts/runIllinoisTemporal.sh \"9 10 11 12 13\">>~/log/illinois-temporal/ip-34-200-214-185.log &\n",
      "--------------------\n",
      "2 - Executing scripts on 34.205.174.203\n",
      "Run command:./scripts/runIllinoisTemporal.sh \"14 15 16 17 18\">>~/log/illinois-temporal/ip-34-205-174-203.log &\n"
     ]
    }
   ],
   "source": [
    "tag = 'smalltest'\n",
    "ips=get_all_instances(tag)\n",
    "ips.sort()\n",
    "command = \"./scripts/runIllinoisTemporal.sh \"\n",
    "partitions=[\"4 5 6 7 8\",\"9 10 11 12 13\",\"14 15 16 17 18\"]\n",
    "for i,host in enumerate(ips):\n",
    "    print \"--------------------\"\n",
    "    print \"%d - Executing scripts on %s\" %(i,host)\n",
    "    run_command(host,command+\"\\\"%s\\\">>~/log/illinois-temporal/ip-%s.log &\" % (partitions[i], host.replace('.','-')), inline=True, verbose=False)"
   ]
  },
  {
   "cell_type": "code",
   "execution_count": 25,
   "metadata": {
    "collapsed": true
   },
   "outputs": [],
   "source": [
    "def partitionsFinished(partitions,cache):\n",
    "    partitions = partitions.split()\n",
    "    partitions = [int(x) for x in partitions]\n",
    "    allFinished = True\n",
    "    for p in partitions:\n",
    "        if p in cache:\n",
    "            continue\n",
    "        \n",
    "        if not fileExistsS3('results/illinois-temporal/%d.ser.tgz'%p) or not fileExistsS3('results/illinois-temporal/%d.timeline.tgz'%p):\n",
    "            print \"partition %d unfinished\" % p\n",
    "            allFinished = False\n",
    "            break\n",
    "        else:\n",
    "            print \"partition %d finished\" %p\n",
    "            cache.add(p)\n",
    "    return allFinished"
   ]
  },
  {
   "cell_type": "code",
   "execution_count": 8,
   "metadata": {},
   "outputs": [
    {
     "name": "stdout",
     "output_type": "stream",
     "text": [
      "partition 4 unfinished\n",
      "False\n"
     ]
    }
   ],
   "source": [
    "print partitionsFinished(\"4 5 6\")"
   ]
  },
  {
   "cell_type": "code",
   "execution_count": 10,
   "metadata": {},
   "outputs": [
    {
     "data": {
      "text/plain": [
       "{'14 15 16 17 18': u'34.205.174.203',\n",
       " '4 5 6 7 8': u'18.214.25.205',\n",
       " '9 10 11 12 13': u'34.200.214.185'}"
      ]
     },
     "execution_count": 10,
     "metadata": {},
     "output_type": "execute_result"
    }
   ],
   "source": [
    "par2host = {}\n",
    "for index,ip in enumerate(ips):\n",
    "    par2host[partitions[index]] = ip\n",
    "par2host"
   ]
  },
  {
   "cell_type": "code",
   "execution_count": 33,
   "metadata": {
    "collapsed": true
   },
   "outputs": [],
   "source": [
    "def cplog2s3(ip):\n",
    "    log_name = 'ip-%s.log' % ip.replace('.','-')\n",
    "    command = \"source ~/.customrc; cptos3.sh ~/log/illinois-temporal/%s logs/illinois-temporal/%s\" % (log_name,log_name)\n",
    "    run_command(host,inline=True,verbose=True,command=command)"
   ]
  },
  {
   "cell_type": "code",
   "execution_count": 27,
   "metadata": {
    "collapsed": true
   },
   "outputs": [],
   "source": [
    "def stopInstanceByIp(ip):\n",
    "    conn=boto.ec2.connect_to_region('us-east-1')\n",
    "    reservations=conn.get_all_instances()\n",
    "    instances=[i for r in reservations for i in r.instances]\n",
    "    for ins in instances:\n",
    "        if ins.ip_address == ip:\n",
    "            print ins.id+\" is stopped now.\"\n",
    "            boto.connect_ec2().terminate_instances(ins.id)"
   ]
  },
  {
   "cell_type": "code",
   "execution_count": null,
   "metadata": {},
   "outputs": [
    {
     "name": "stdout",
     "output_type": "stream",
     "text": [
      "partition 4 finished\n",
      "partition 5 finished\n",
      "partition 6 finished\n",
      "partition 7 finished\n",
      "partition 8 unfinished\n",
      "Wait for 10 mins\n",
      "partition 8 unfinished\n",
      "Wait for 10 mins\n",
      "partition 8 unfinished\n",
      "Wait for 10 mins\n",
      "partition 8 finished\n",
      "4 5 6 7 8 finished\n",
      "Copy cmd log to s3\n",
      "Run command:source ~/.customrc; cptos3 ~/log/illinois-temporal/ip-18-214-25-205.log logs/illinois-temporal/ip-18-214-25-205.log\n",
      "\n",
      "\u001b[31mbash: cptos3: command not found\n",
      "\u001b[0m\n",
      "Stop instance\n",
      "i-05f9f765667b84be9 is stopped now.\n"
     ]
    }
   ],
   "source": [
    "partitions_remaining = partitions\n",
    "cache = set()\n",
    "while 1:\n",
    "    for p_str in partitions_remaining:\n",
    "        if partitionsFinished(p_str,cache):\n",
    "            print \"%s finished\" % p_str\n",
    "            print \"Copy cmd log to s3\"\n",
    "            partitions.remove(p_str)\n",
    "            host = par2host[p_str]\n",
    "            cplog2s3(host)\n",
    "            print \"Stop instance\"\n",
    "            stopInstanceByIp(host)\n",
    "        else:\n",
    "            print \"Wait for 10 mins\"\n",
    "            time.sleep(60*10)\n",
    "            #time.sleep(5)\n",
    "    partitions_remaining = partitions"
   ]
  },
  {
   "cell_type": "code",
   "execution_count": 21,
   "metadata": {},
   "outputs": [
    {
     "data": {
      "text/plain": [
       "{'14 15 16 17 18': u'34.205.174.203',\n",
       " '4 5 6 7 8': u'18.214.25.205',\n",
       " '9 10 11 12 13': u'34.200.214.185'}"
      ]
     },
     "execution_count": 21,
     "metadata": {},
     "output_type": "execute_result"
    }
   ],
   "source": [
    "par2host"
   ]
  }
 ],
 "metadata": {
  "kernelspec": {
   "display_name": "Python 2",
   "language": "python",
   "name": "python2"
  },
  "language_info": {
   "codemirror_mode": {
    "name": "ipython",
    "version": 2
   },
   "file_extension": ".py",
   "mimetype": "text/x-python",
   "name": "python",
   "nbconvert_exporter": "python",
   "pygments_lexer": "ipython2",
   "version": "2.7.14"
  }
 },
 "nbformat": 4,
 "nbformat_minor": 2
}
