{
 "cells": [
  {
   "cell_type": "code",
   "execution_count": 1,
   "metadata": {
    "collapsed": true
   },
   "outputs": [],
   "source": [
    "import boto.ec2\n",
    "from paramiko import SSHClient\n",
    "import paramiko\n",
    "from termcolor import colored\n",
    "import boto3\n",
    "import click\n",
    "import time\n",
    "from s3_util import *\n",
    "from ec2 import *\n",
    "from spot_instance import *"
   ]
  },
  {
   "cell_type": "code",
   "execution_count": 2,
   "metadata": {
    "collapsed": true
   },
   "outputs": [],
   "source": [
    "def partitionsFinished(partitions,cache):\n",
    "    partitions = partitions.split()\n",
    "    partitions = [int(x) for x in partitions]\n",
    "    allFinished = True\n",
    "    for p in partitions:\n",
    "        if p in cache:\n",
    "            continue\n",
    "        \n",
    "        if not fileExistsS3('results/illinois-temporal/%d.ser.tgz'%p) or not fileExistsS3('results/illinois-temporal/%d.timeline.tgz'%p):\n",
    "            print \"partition %d unfinished\" % p\n",
    "            allFinished = False\n",
    "            break\n",
    "        else:\n",
    "            print \"partition %d finished\" %p\n",
    "            cache.add(p)\n",
    "    return allFinished\n",
    "def cplog2s3(ip):\n",
    "    log_name = 'ip-%s.log' % ip.replace('.','-')\n",
    "    command = \"source ~/.customrc; cptos3.sh ~/log/illinois-temporal/%s logs/illinois-temporal/%s\" % (log_name,log_name)\n",
    "    run_command(host,inline=True,verbose=True,command=command)\n",
    "    time.sleep(10)\n",
    "def stopInstanceByIp(ip):\n",
    "    conn=boto.ec2.connect_to_region('us-east-1')\n",
    "    reservations=conn.get_all_instances()\n",
    "    instances=[i for r in reservations for i in r.instances]\n",
    "    for ins in instances:\n",
    "        if ins.ip_address == ip:\n",
    "            print ins.id+\" is stopped now.\"\n",
    "            boto.connect_ec2().terminate_instances(ins.id)\n",
    "def splitPartitions(partitions, n):\n",
    "    # split partitions into n pieces\n",
    "    ret = [[]]*n\n",
    "    i = 0\n",
    "    for p in partitions:\n",
    "        ret[i] = ret[i]+[p]\n",
    "        i+=1\n",
    "        if i>=n:\n",
    "            i=0\n",
    "    ret = [str(x).replace(',','').replace('[','').replace(']','') for x in ret]\n",
    "    return ret"
   ]
  },
  {
   "cell_type": "code",
   "execution_count": 3,
   "metadata": {
    "collapsed": true
   },
   "outputs": [],
   "source": [
    "n = 2\n",
    "partitions = list_unfinished_partitions()\n",
    "partitions = [x for x in partitions if x > 20 and x < 25]\n",
    "partitions = splitPartitions(partitions,n)"
   ]
  },
  {
   "cell_type": "code",
   "execution_count": 4,
   "metadata": {
    "scrolled": true
   },
   "outputs": [
    {
     "name": "stdout",
     "output_type": "stream",
     "text": [
      "All have ips assigned.\n",
      "35.170.53.188 (pending) isn't running.\n",
      "34.200.239.123 (pending) isn't running.\n",
      "All aren't running. Wait for 10 sec...\n",
      "35.170.53.188 (pending) isn't running.\n",
      "34.200.239.123 (pending) isn't running.\n",
      "All aren't running. Wait for 10 sec...\n",
      "35.170.53.188 is running.\n",
      "34.200.239.123 is running.\n",
      "All are running.\n",
      "35.170.53.188\n",
      "34.200.239.123\n",
      "Wait for 3 mins\n",
      "There're 4 instances.\n",
      "2 are running now.\n",
      "--------------------\n",
      "0 - Executing scripts on 34.200.239.123\n"
     ]
    },
    {
     "name": "stderr",
     "output_type": "stream",
     "text": [
      "/home/qning2/Software/anaconda2/lib/python2.7/site-packages/paramiko/client.py:822: UserWarning: Unknown ssh-ed25519 host key for 34.200.239.123: f7b8b303f555cdc9e37843ab83bd1452\n",
      "  key.get_name(), hostname, hexlify(key.get_fingerprint())\n"
     ]
    },
    {
     "name": "stdout",
     "output_type": "stream",
     "text": [
      "Run command:#!/bin/bash\n",
      "source ~/.customrc\n",
      "./scripts/cpfroms3.sh scripts/runIllinoisTemporal.sh scripts/runIllinoisTemporal.sh && chmod 774 ~/scripts/runIllinoisTemporal.sh &\n",
      "./scripts/cpfroms3.sh packages/illinois-temporal/illinois-temporal-1.0.0.jar ~/code/illinois-temporal/illinois-temporal-1.0.0.jar\n",
      "mkdir -p data/nyt-annotated-jsons\n",
      "mkdir -p log/illinois-temporal\n",
      "mkdir -p results/illinois-temporal\n",
      "--------------------\n",
      "1 - Executing scripts on 35.170.53.188\n"
     ]
    },
    {
     "name": "stderr",
     "output_type": "stream",
     "text": [
      "/home/qning2/Software/anaconda2/lib/python2.7/site-packages/paramiko/client.py:822: UserWarning: Unknown ssh-ed25519 host key for 35.170.53.188: 352fd645b0f6522aa90da62176c89d22\n",
      "  key.get_name(), hostname, hexlify(key.get_fingerprint())\n"
     ]
    },
    {
     "name": "stdout",
     "output_type": "stream",
     "text": [
      "Run command:#!/bin/bash\n",
      "source ~/.customrc\n",
      "./scripts/cpfroms3.sh scripts/runIllinoisTemporal.sh scripts/runIllinoisTemporal.sh && chmod 774 ~/scripts/runIllinoisTemporal.sh &\n",
      "./scripts/cpfroms3.sh packages/illinois-temporal/illinois-temporal-1.0.0.jar ~/code/illinois-temporal/illinois-temporal-1.0.0.jar\n",
      "mkdir -p data/nyt-annotated-jsons\n",
      "mkdir -p log/illinois-temporal\n",
      "mkdir -p results/illinois-temporal\n",
      "There're 4 instances.\n",
      "2 are running now.\n",
      "--------------------\n",
      "0 - Executing scripts on 34.200.239.123\n",
      "Run command:./scripts/runIllinoisTemporal.sh \"23\" false 100>>~/log/illinois-temporal/ip-34-200-239-123.log &\n",
      "--------------------\n",
      "1 - Executing scripts on 35.170.53.188\n",
      "Run command:./scripts/runIllinoisTemporal.sh \"24\" false 100>>~/log/illinois-temporal/ip-35-170-53-188.log &\n"
     ]
    }
   ],
   "source": [
    "tag = 'Timeline'\n",
    "forceUpdate = 'false'\n",
    "MAX_NUM_EVENT = '100'\n",
    "new_reservation = request_spot_instances(count=n,tag=tag)\n",
    "print \"Wait for 3 mins\"\n",
    "time.sleep(180)\n",
    "run_command_all_instances(tag=tag,inline=False,target='./init_script.sh')\n",
    "time.sleep(30)\n",
    "\n",
    "ips=get_all_instances(tag)\n",
    "ips.sort()\n",
    "command = \"./scripts/runIllinoisTemporal.sh \"\n",
    "par2host = {}\n",
    "for i,host in enumerate(ips):\n",
    "    print \"--------------------\"\n",
    "    print \"%d - Executing scripts on %s\" %(i,host)\n",
    "    par2host[partitions[i]] = host\n",
    "    command_modified = command+\"\\\"%s\\\" %s %s >> ~/log/illinois-temporal/ip-%s.log &\" % (partitions[i], forceUpdate, MAX_NUM_EVENT, host.replace('.','-'))\n",
    "    run_command(host,command_modified,inline=True,verbose=False)"
   ]
  },
  {
   "cell_type": "code",
   "execution_count": 15,
   "metadata": {},
   "outputs": [
    {
     "data": {
      "text/plain": [
       "{'21': '34.200.212.126', '22': '35.170.58.27'}"
      ]
     },
     "execution_count": 15,
     "metadata": {},
     "output_type": "execute_result"
    }
   ],
   "source": [
    "par2host = {}\n",
    "for index,par in enumerate(partitions):\n",
    "    par2host[par] = ips[index]\n",
    "par2host"
   ]
  },
  {
   "cell_type": "code",
   "execution_count": 7,
   "metadata": {},
   "outputs": [
    {
     "data": {
      "text/plain": [
       "['23', '24']"
      ]
     },
     "execution_count": 7,
     "metadata": {},
     "output_type": "execute_result"
    }
   ],
   "source": [
    "partitions"
   ]
  },
  {
   "cell_type": "code",
   "execution_count": 8,
   "metadata": {},
   "outputs": [
    {
     "name": "stdout",
     "output_type": "stream",
     "text": [
      "partition 23 unfinished\n",
      "Wait for 10 min\n",
      "partition 24 unfinished\n",
      "Wait for 10 min\n",
      "partition 23 unfinished\n",
      "Wait for 10 min\n",
      "partition 24 unfinished\n",
      "Wait for 10 min\n",
      "partition 23 unfinished\n",
      "Wait for 10 min\n",
      "partition 24 unfinished\n",
      "Wait for 10 min\n",
      "partition 23 unfinished\n",
      "Wait for 10 min\n",
      "partition 24 unfinished\n",
      "Wait for 10 min\n",
      "partition 23 unfinished\n",
      "Wait for 10 min\n",
      "partition 24 unfinished\n",
      "Wait for 10 min\n",
      "partition 23 unfinished\n",
      "Wait for 10 min\n",
      "partition 24 unfinished\n",
      "Wait for 10 min\n",
      "partition 23 unfinished\n",
      "Wait for 10 min\n",
      "partition 24 unfinished\n",
      "Wait for 10 min\n",
      "partition 23 unfinished\n",
      "Wait for 10 min\n",
      "partition 24 unfinished\n",
      "Wait for 10 min\n",
      "partition 23 unfinished\n",
      "Wait for 10 min\n",
      "partition 24 unfinished\n",
      "Wait for 10 min\n",
      "partition 23 unfinished\n",
      "Wait for 10 min\n",
      "partition 24 unfinished\n",
      "Wait for 10 min\n",
      "partition 23 unfinished\n",
      "Wait for 10 min\n",
      "partition 24 unfinished\n",
      "Wait for 10 min\n",
      "partition 23 unfinished\n",
      "Wait for 10 min\n",
      "partition 24 unfinished\n",
      "Wait for 10 min\n",
      "partition 23 unfinished\n",
      "Wait for 10 min\n",
      "partition 24 unfinished\n",
      "Wait for 10 min\n",
      "partition 23 unfinished\n",
      "Wait for 10 min\n",
      "partition 24 unfinished\n",
      "Wait for 10 min\n",
      "partition 23 unfinished\n",
      "Wait for 10 min\n",
      "partition 24 unfinished\n",
      "Wait for 10 min\n",
      "partition 23 unfinished\n",
      "Wait for 10 min\n",
      "partition 24 unfinished\n",
      "Wait for 10 min\n",
      "partition 23 unfinished\n",
      "Wait for 10 min\n",
      "partition 24 unfinished\n",
      "Wait for 10 min\n",
      "partition 23 unfinished\n",
      "Wait for 10 min\n",
      "partition 24 unfinished\n",
      "Wait for 10 min\n",
      "partition 23 unfinished\n",
      "Wait for 10 min\n",
      "partition 24 unfinished\n",
      "Wait for 10 min\n",
      "partition 23 unfinished\n",
      "Wait for 10 min\n",
      "partition 24 unfinished\n",
      "Wait for 10 min\n",
      "partition 23 unfinished\n",
      "Wait for 10 min\n",
      "partition 24 unfinished\n",
      "Wait for 10 min\n",
      "partition 23 unfinished\n",
      "Wait for 10 min\n",
      "partition 24 unfinished\n",
      "Wait for 10 min\n",
      "partition 23 unfinished\n",
      "Wait for 10 min\n",
      "partition 24 unfinished\n",
      "Wait for 10 min\n",
      "partition 23 unfinished\n",
      "Wait for 10 min\n",
      "partition 24 unfinished\n",
      "Wait for 10 min\n",
      "partition 23 finished\n",
      "23 finished\n",
      "Copy cmd log to s3\n",
      "Run command:source ~/.customrc; cptos3.sh ~/log/illinois-temporal/ip-34-200-239-123.log logs/illinois-temporal/ip-34-200-239-123.log\n",
      "upload: log/illinois-temporal/ip-34-200-239-123.log to s3://cogcomp-public-data/logs/illinois-temporal/ip-34-200-239-123.log\n",
      "\n",
      "\u001b[31m\u001b[0m\n",
      "Stop instance\n",
      "partition 24 unfinished\n",
      "Wait for 10 min\n",
      "partition 24 unfinished\n",
      "Wait for 10 min\n",
      "partition 24 unfinished\n",
      "Wait for 10 min\n",
      "partition 24 unfinished\n",
      "Wait for 10 min\n",
      "partition 24 unfinished\n",
      "Wait for 10 min\n",
      "partition 24 unfinished\n",
      "Wait for 10 min\n",
      "partition 24 unfinished\n",
      "Wait for 10 min\n",
      "partition 24 unfinished\n",
      "Wait for 10 min\n",
      "partition 24 finished\n",
      "24 finished\n",
      "Copy cmd log to s3\n",
      "Run command:source ~/.customrc; cptos3.sh ~/log/illinois-temporal/ip-35-170-53-188.log logs/illinois-temporal/ip-35-170-53-188.log\n",
      "upload: log/illinois-temporal/ip-35-170-53-188.log to s3://cogcomp-public-data/logs/illinois-temporal/ip-35-170-53-188.log\n",
      "\n",
      "\u001b[31m\u001b[0m\n",
      "Stop instance\n"
     ]
    }
   ],
   "source": [
    "partitions_remaining = partitions\n",
    "cache = set()\n",
    "while 1:\n",
    "    for p_str in partitions_remaining:\n",
    "        if partitionsFinished(p_str,cache):\n",
    "            print \"%s finished\" % p_str\n",
    "            print \"Copy cmd log to s3\"\n",
    "            partitions.remove(p_str)\n",
    "            host = par2host[p_str]\n",
    "            cplog2s3(host)\n",
    "            print \"Stop instance\"\n",
    "            #stopInstanceByIp(host)\n",
    "        else:\n",
    "            print \"Wait for 10 min\"\n",
    "            time.sleep(60*1)\n",
    "            #time.sleep(5)\n",
    "    if len(partitions)==0:\n",
    "        break\n",
    "    partitions_remaining = partitions"
   ]
  }
 ],
 "metadata": {
  "kernelspec": {
   "display_name": "Python 2",
   "language": "python",
   "name": "python2"
  },
  "language_info": {
   "codemirror_mode": {
    "name": "ipython",
    "version": 2
   },
   "file_extension": ".py",
   "mimetype": "text/x-python",
   "name": "python",
   "nbconvert_exporter": "python",
   "pygments_lexer": "ipython2",
   "version": "2.7.14"
  }
 },
 "nbformat": 4,
 "nbformat_minor": 2
}
